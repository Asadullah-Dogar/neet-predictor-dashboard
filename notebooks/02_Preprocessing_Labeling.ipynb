{
 "cells": [
  {
   "cell_type": "markdown",
   "id": "33cf1b07",
   "metadata": {},
   "source": [
    "# Notebook 02: Data Preprocessing & NEET Labeling\n",
    "\n",
    "**Purpose**: Load raw LFS 2020-21 data, detect variables, create NEET labels, clean data, and save processed dataset.\n",
    "\n",
    "**Outputs**:\n",
    "- `data/processed/lfs_youth_cleaned.csv` - Cleaned dataset with NEET labels\n",
    "- `outputs/tables/neet_distribution.csv` - NEET statistics by demographics\n",
    "- `outputs/figures/neet_by_demographics.png` - Visualization of NEET rates"
   ]
  },
  {
   "cell_type": "markdown",
   "id": "153eba2a",
   "metadata": {},
   "source": [
    "## 1. Setup and Imports"
   ]
  },
  {
   "cell_type": "code",
   "execution_count": null,
   "id": "4641e268",
   "metadata": {},
   "outputs": [],
   "source": [
    "import sys\n",
    "import os\n",
    "import pandas as pd\n",
    "import numpy as np\n",
    "import matplotlib.pyplot as plt\n",
    "import seaborn as sns\n",
    "\n",
    "# Add src directory to path\n",
    "sys.path.append('../src')\n",
    "\n",
    "from data_preprocessing import (\n",
    "    load_raw,\n",
    "    detect_variable_names,\n",
    "    create_neet_label,\n",
    "    clean_vars,\n",
    "    remove_pii\n",
    ")\n",
    "\n",
    "# Set plotting style\n",
    "sns.set_style('whitegrid')\n",
    "plt.rcParams['figure.figsize'] = (12, 6)\n",
    "\n",
    "print(\"✓ Imports complete\")"
   ]
  },
  {
   "cell_type": "markdown",
   "id": "aca2d33f",
   "metadata": {},
   "source": [
    "## 2. Load Raw Data"
   ]
  },
  {
   "cell_type": "code",
   "execution_count": null,
   "id": "9fea3d9d",
   "metadata": {},
   "outputs": [],
   "source": [
    "# Load the LFS 2020-21 Stata file\n",
    "raw_data_path = '../data/raw/LFS2020-21.dta'\n",
    "\n",
    "print(f\"Loading data from: {raw_data_path}\")\n",
    "df_raw, metadata = load_raw(raw_data_path, verbose=True)\n",
    "\n",
    "print(f\"\\n{'='*60}\")\n",
    "print(f\"Raw data shape: {df_raw.shape}\")\n",
    "print(f\"Columns: {df_raw.shape[1]}\")\n",
    "print(f\"Rows: {df_raw.shape[0]:,}\")\n",
    "print(f\"{'='*60}\")"
   ]
  },
  {
   "cell_type": "markdown",
   "id": "3a51ec2c",
   "metadata": {},
   "source": [
    "## 3. Detect Variable Names\n",
    "\n",
    "LFS datasets may have different column names. We'll auto-detect the relevant variables."
   ]
  },
  {
   "cell_type": "code",
   "execution_count": null,
   "id": "030f1c4a",
   "metadata": {},
   "outputs": [],
   "source": [
    "# Auto-detect variable names\n",
    "var_mapping = detect_variable_names(df_raw, verbose=True)\n",
    "\n",
    "print(\"\\n\" + \"=\"*60)\n",
    "print(\"DETECTED VARIABLES:\")\n",
    "print(\"=\"*60)\n",
    "for key, value in var_mapping.items():\n",
    "    print(f\"{key:20s} -> {value}\")"
   ]
  },
  {
   "cell_type": "markdown",
   "id": "546a7779",
   "metadata": {},
   "source": [
    "## 4. Create NEET Label\n",
    "\n",
    "**NEET Definition**: Youth aged 15-24 who are:\n",
    "- **NOT** in education\n",
    "- **NOT** employed\n",
    "- **NOT** in training"
   ]
  },
  {
   "cell_type": "code",
   "execution_count": null,
   "id": "08b8976b",
   "metadata": {},
   "outputs": [],
   "source": [
    "# Create NEET label\n",
    "df_labeled = create_neet_label(\n",
    "    df_raw,\n",
    "    var_mapping=var_mapping,\n",
    "    age_min=15,\n",
    "    age_max=24,\n",
    "    verbose=True\n",
    ")\n",
    "\n",
    "print(f\"\\n{'='*60}\")\n",
    "print(f\"Labeled data shape: {df_labeled.shape}\")\n",
    "print(f\"Youth population (15-24): {df_labeled.shape[0]:,}\")\n",
    "print(f\"{'='*60}\")"
   ]
  },
  {
   "cell_type": "markdown",
   "id": "a37857a8",
   "metadata": {},
   "source": [
    "## 5. Verify NEET Label Logic"
   ]
  },
  {
   "cell_type": "code",
   "execution_count": null,
   "id": "7af5256e",
   "metadata": {},
   "outputs": [],
   "source": [
    "# Check NEET distribution\n",
    "neet_counts = df_labeled['NEET'].value_counts()\n",
    "neet_pct = df_labeled['NEET'].value_counts(normalize=True) * 100\n",
    "\n",
    "print(\"\\n\" + \"=\"*60)\n",
    "print(\"NEET STATUS DISTRIBUTION\")\n",
    "print(\"=\"*60)\n",
    "print(f\"Not NEET: {neet_counts.get(0, 0):,} ({neet_pct.get(0, 0):.1f}%)\")\n",
    "print(f\"NEET:     {neet_counts.get(1, 0):,} ({neet_pct.get(1, 0):.1f}%)\")\n",
    "print(f\"Total:    {df_labeled.shape[0]:,}\")\n",
    "\n",
    "# Verify logic\n",
    "print(\"\\n\" + \"=\"*60)\n",
    "print(\"COMPONENT BREAKDOWN\")\n",
    "print(\"=\"*60)\n",
    "if 'in_education' in df_labeled.columns:\n",
    "    print(f\"In education: {df_labeled['in_education'].sum():,} ({df_labeled['in_education'].mean()*100:.1f}%)\")\n",
    "if 'employed' in df_labeled.columns:\n",
    "    print(f\"Employed:     {df_labeled['employed'].sum():,} ({df_labeled['employed'].mean()*100:.1f}%)\")\n",
    "if 'in_training' in df_labeled.columns:\n",
    "    print(f\"In training:  {df_labeled['in_training'].sum():,} ({df_labeled['in_training'].mean()*100:.1f}%)\")\n",
    "\n",
    "# Show sample records\n",
    "print(\"\\n\" + \"=\"*60)\n",
    "print(\"SAMPLE RECORDS (First 10)\")\n",
    "print(\"=\"*60)\n",
    "cols_to_show = [var_mapping.get('age'), var_mapping.get('sex')]\n",
    "if 'in_education' in df_labeled.columns:\n",
    "    cols_to_show.append('in_education')\n",
    "if 'employed' in df_labeled.columns:\n",
    "    cols_to_show.append('employed')\n",
    "if 'in_training' in df_labeled.columns:\n",
    "    cols_to_show.append('in_training')\n",
    "cols_to_show.append('NEET')\n",
    "\n",
    "display(df_labeled[cols_to_show].head(10))"
   ]
  },
  {
   "cell_type": "markdown",
   "id": "94f6ee54",
   "metadata": {},
   "source": [
    "## 6. Clean Variables\n",
    "\n",
    "Standardize sex, province, district, and urban/rural variables."
   ]
  },
  {
   "cell_type": "code",
   "execution_count": null,
   "id": "b00cf62e",
   "metadata": {},
   "outputs": [],
   "source": [
    "# Clean variables\n",
    "df_cleaned = clean_vars(df_labeled, var_mapping=var_mapping, verbose=True)\n",
    "\n",
    "print(f\"\\n{'='*60}\")\n",
    "print(f\"Cleaned data shape: {df_cleaned.shape}\")\n",
    "print(f\"{'='*60}\")"
   ]
  },
  {
   "cell_type": "markdown",
   "id": "5e7b4def",
   "metadata": {},
   "source": [
    "## 7. Remove PII\n",
    "\n",
    "Remove personally identifiable information for privacy protection."
   ]
  },
  {
   "cell_type": "code",
   "execution_count": null,
   "id": "bc8f933b",
   "metadata": {},
   "outputs": [],
   "source": [
    "# Remove PII\n",
    "df_final = remove_pii(df_cleaned, create_hash_id=True, verbose=True)\n",
    "\n",
    "print(f\"\\n{'='*60}\")\n",
    "print(f\"Final data shape: {df_final.shape}\")\n",
    "print(f\"Columns: {df_final.shape[1]}\")\n",
    "print(f\"{'='*60}\")"
   ]
  },
  {
   "cell_type": "markdown",
   "id": "8c1c18a5",
   "metadata": {},
   "source": [
    "## 8. Analyze NEET by Demographics"
   ]
  },
  {
   "cell_type": "code",
   "execution_count": null,
   "id": "d5a835a2",
   "metadata": {},
   "outputs": [],
   "source": [
    "# NEET rate by gender\n",
    "sex_col = var_mapping.get('sex')\n",
    "if sex_col and sex_col in df_final.columns:\n",
    "    neet_by_sex = df_final.groupby(sex_col)['NEET'].agg(['count', 'sum', 'mean'])\n",
    "    neet_by_sex.columns = ['Total', 'NEET_Count', 'NEET_Rate']\n",
    "    neet_by_sex['NEET_Rate'] = neet_by_sex['NEET_Rate'] * 100\n",
    "    \n",
    "    print(\"\\n\" + \"=\"*60)\n",
    "    print(\"NEET RATE BY GENDER\")\n",
    "    print(\"=\"*60)\n",
    "    print(neet_by_sex.to_string())\n",
    "\n",
    "# NEET rate by province\n",
    "prov_col = var_mapping.get('province')\n",
    "if prov_col and prov_col in df_final.columns:\n",
    "    neet_by_prov = df_final.groupby(prov_col)['NEET'].agg(['count', 'sum', 'mean'])\n",
    "    neet_by_prov.columns = ['Total', 'NEET_Count', 'NEET_Rate']\n",
    "    neet_by_prov['NEET_Rate'] = neet_by_prov['NEET_Rate'] * 100\n",
    "    neet_by_prov = neet_by_prov.sort_values('NEET_Rate', ascending=False)\n",
    "    \n",
    "    print(\"\\n\" + \"=\"*60)\n",
    "    print(\"NEET RATE BY PROVINCE\")\n",
    "    print(\"=\"*60)\n",
    "    print(neet_by_prov.head(10).to_string())\n",
    "\n",
    "# NEET rate by urban/rural\n",
    "urban_col = var_mapping.get('urban_rural')\n",
    "if urban_col and urban_col in df_final.columns:\n",
    "    neet_by_urban = df_final.groupby(urban_col)['NEET'].agg(['count', 'sum', 'mean'])\n",
    "    neet_by_urban.columns = ['Total', 'NEET_Count', 'NEET_Rate']\n",
    "    neet_by_urban['NEET_Rate'] = neet_by_urban['NEET_Rate'] * 100\n",
    "    \n",
    "    print(\"\\n\" + \"=\"*60)\n",
    "    print(\"NEET RATE BY URBAN/RURAL\")\n",
    "    print(\"=\"*60)\n",
    "    print(neet_by_urban.to_string())"
   ]
  },
  {
   "cell_type": "markdown",
   "id": "341c62d6",
   "metadata": {},
   "source": [
    "## 9. Visualize NEET Rates"
   ]
  },
  {
   "cell_type": "code",
   "execution_count": null,
   "id": "b32f4ff5",
   "metadata": {},
   "outputs": [],
   "source": [
    "# Create visualization\n",
    "fig, axes = plt.subplots(1, 3, figsize=(18, 5))\n",
    "\n",
    "# Plot 1: NEET by Gender\n",
    "if sex_col and sex_col in df_final.columns:\n",
    "    neet_by_sex_pct = df_final.groupby(sex_col)['NEET'].mean() * 100\n",
    "    ax1 = axes[0]\n",
    "    neet_by_sex_pct.plot(kind='bar', ax=ax1, color=['#3498db', '#e74c3c'])\n",
    "    ax1.set_title('NEET Rate by Gender', fontsize=14, fontweight='bold')\n",
    "    ax1.set_xlabel('Gender', fontsize=12)\n",
    "    ax1.set_ylabel('NEET Rate (%)', fontsize=12)\n",
    "    ax1.set_xticklabels(ax1.get_xticklabels(), rotation=0)\n",
    "    for i, v in enumerate(neet_by_sex_pct):\n",
    "        ax1.text(i, v + 1, f'{v:.1f}%', ha='center', fontsize=10)\n",
    "\n",
    "# Plot 2: NEET by Province (Top 5)\n",
    "if prov_col and prov_col in df_final.columns:\n",
    "    neet_by_prov_pct = df_final.groupby(prov_col)['NEET'].mean() * 100\n",
    "    neet_by_prov_pct = neet_by_prov_pct.sort_values(ascending=False).head(5)\n",
    "    ax2 = axes[1]\n",
    "    neet_by_prov_pct.plot(kind='barh', ax=ax2, color='#9b59b6')\n",
    "    ax2.set_title('NEET Rate by Province (Top 5)', fontsize=14, fontweight='bold')\n",
    "    ax2.set_xlabel('NEET Rate (%)', fontsize=12)\n",
    "    ax2.set_ylabel('Province', fontsize=12)\n",
    "    for i, v in enumerate(neet_by_prov_pct):\n",
    "        ax2.text(v + 1, i, f'{v:.1f}%', va='center', fontsize=10)\n",
    "\n",
    "# Plot 3: NEET by Urban/Rural\n",
    "if urban_col and urban_col in df_final.columns:\n",
    "    neet_by_urban_pct = df_final.groupby(urban_col)['NEET'].mean() * 100\n",
    "    ax3 = axes[2]\n",
    "    neet_by_urban_pct.plot(kind='bar', ax=ax3, color=['#2ecc71', '#f39c12'])\n",
    "    ax3.set_title('NEET Rate by Area Type', fontsize=14, fontweight='bold')\n",
    "    ax3.set_xlabel('Area Type', fontsize=12)\n",
    "    ax3.set_ylabel('NEET Rate (%)', fontsize=12)\n",
    "    ax3.set_xticklabels(ax3.get_xticklabels(), rotation=0)\n",
    "    for i, v in enumerate(neet_by_urban_pct):\n",
    "        ax3.text(i, v + 1, f'{v:.1f}%', ha='center', fontsize=10)\n",
    "\n",
    "plt.tight_layout()\n",
    "\n",
    "# Save figure\n",
    "os.makedirs('../outputs/figures', exist_ok=True)\n",
    "plt.savefig('../outputs/figures/neet_by_demographics.png', dpi=300, bbox_inches='tight')\n",
    "print(\"\\n✓ Figure saved to: outputs/figures/neet_by_demographics.png\")\n",
    "\n",
    "plt.show()"
   ]
  },
  {
   "cell_type": "markdown",
   "id": "d1b57d4a",
   "metadata": {},
   "source": [
    "## 10. Save Processed Data"
   ]
  },
  {
   "cell_type": "code",
   "execution_count": null,
   "id": "e71fbd57",
   "metadata": {},
   "outputs": [],
   "source": [
    "# Save cleaned dataset\n",
    "os.makedirs('../data/processed', exist_ok=True)\n",
    "output_path = '../data/processed/lfs_youth_cleaned.csv'\n",
    "\n",
    "df_final.to_csv(output_path, index=False)\n",
    "\n",
    "print(f\"\\n{'='*60}\")\n",
    "print(\"DATA SAVED SUCCESSFULLY\")\n",
    "print(f\"{'='*60}\")\n",
    "print(f\"Output file: {output_path}\")\n",
    "print(f\"Shape: {df_final.shape}\")\n",
    "print(f\"Size: {os.path.getsize(output_path) / 1024 / 1024:.2f} MB\")\n",
    "print(f\"\\nColumns saved ({df_final.shape[1]}):\")\n",
    "for i, col in enumerate(df_final.columns, 1):\n",
    "    print(f\"  {i:2d}. {col}\")"
   ]
  },
  {
   "cell_type": "markdown",
   "id": "d7cb8420",
   "metadata": {},
   "source": [
    "## 11. Save Summary Statistics"
   ]
  },
  {
   "cell_type": "code",
   "execution_count": null,
   "id": "7305f2b9",
   "metadata": {},
   "outputs": [],
   "source": [
    "# Create summary statistics table\n",
    "summary_stats = []\n",
    "\n",
    "# Overall NEET rate\n",
    "overall_neet = df_final['NEET'].mean() * 100\n",
    "summary_stats.append({\n",
    "    'Category': 'Overall',\n",
    "    'Group': 'All Youth',\n",
    "    'Total': df_final.shape[0],\n",
    "    'NEET_Count': df_final['NEET'].sum(),\n",
    "    'NEET_Rate': overall_neet\n",
    "})\n",
    "\n",
    "# By gender\n",
    "if sex_col and sex_col in df_final.columns:\n",
    "    for sex, group in df_final.groupby(sex_col):\n",
    "        summary_stats.append({\n",
    "            'Category': 'Gender',\n",
    "            'Group': sex,\n",
    "            'Total': len(group),\n",
    "            'NEET_Count': group['NEET'].sum(),\n",
    "            'NEET_Rate': group['NEET'].mean() * 100\n",
    "        })\n",
    "\n",
    "# By urban/rural\n",
    "if urban_col and urban_col in df_final.columns:\n",
    "    for area, group in df_final.groupby(urban_col):\n",
    "        summary_stats.append({\n",
    "            'Category': 'Area',\n",
    "            'Group': area,\n",
    "            'Total': len(group),\n",
    "            'NEET_Count': group['NEET'].sum(),\n",
    "            'NEET_Rate': group['NEET'].mean() * 100\n",
    "        })\n",
    "\n",
    "# By province (top 5)\n",
    "if prov_col and prov_col in df_final.columns:\n",
    "    for prov, group in df_final.groupby(prov_col):\n",
    "        summary_stats.append({\n",
    "            'Category': 'Province',\n",
    "            'Group': prov,\n",
    "            'Total': len(group),\n",
    "            'NEET_Count': group['NEET'].sum(),\n",
    "            'NEET_Rate': group['NEET'].mean() * 100\n",
    "        })\n",
    "\n",
    "summary_df = pd.DataFrame(summary_stats)\n",
    "\n",
    "# Save to CSV\n",
    "os.makedirs('../outputs/tables', exist_ok=True)\n",
    "summary_df.to_csv('../outputs/tables/neet_distribution.csv', index=False)\n",
    "\n",
    "print(\"\\n✓ Summary statistics saved to: outputs/tables/neet_distribution.csv\")\n",
    "print(\"\\n\" + \"=\"*60)\n",
    "print(\"SUMMARY STATISTICS\")\n",
    "print(\"=\"*60)\n",
    "display(summary_df)"
   ]
  },
  {
   "cell_type": "markdown",
   "id": "06224c81",
   "metadata": {},
   "source": [
    "## 12. Data Quality Checks"
   ]
  },
  {
   "cell_type": "code",
   "execution_count": null,
   "id": "2c407939",
   "metadata": {},
   "outputs": [],
   "source": [
    "print(\"\\n\" + \"=\"*60)\n",
    "print(\"DATA QUALITY CHECKS\")\n",
    "print(\"=\"*60)\n",
    "\n",
    "# Check for missing values\n",
    "missing = df_final.isnull().sum()\n",
    "missing_pct = (missing / len(df_final)) * 100\n",
    "missing_df = pd.DataFrame({\n",
    "    'Missing_Count': missing,\n",
    "    'Missing_Pct': missing_pct\n",
    "})\n",
    "missing_df = missing_df[missing_df['Missing_Count'] > 0].sort_values('Missing_Count', ascending=False)\n",
    "\n",
    "if len(missing_df) > 0:\n",
    "    print(\"\\nColumns with missing values:\")\n",
    "    display(missing_df)\n",
    "else:\n",
    "    print(\"\\n✓ No missing values found!\")\n",
    "\n",
    "# Check NEET label distribution\n",
    "print(\"\\nNEET label distribution:\")\n",
    "print(df_final['NEET'].value_counts())\n",
    "\n",
    "# Check for duplicates\n",
    "n_duplicates = df_final.duplicated().sum()\n",
    "print(f\"\\nDuplicate rows: {n_duplicates}\")\n",
    "\n",
    "# Data types\n",
    "print(\"\\nData types:\")\n",
    "print(df_final.dtypes.value_counts())\n",
    "\n",
    "print(\"\\n\" + \"=\"*60)\n",
    "print(\"✓ DATA PREPROCESSING COMPLETE!\")\n",
    "print(\"=\"*60)\n",
    "print(\"\\nNext step: Run notebooks/03_Modeling_and_Explainability.ipynb\")"
   ]
  }
 ],
 "metadata": {
  "language_info": {
   "name": "python"
  }
 },
 "nbformat": 4,
 "nbformat_minor": 5
}
