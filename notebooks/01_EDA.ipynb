{
 "cells": [
  {
   "cell_type": "markdown",
   "id": "5a735803",
   "metadata": {},
   "source": [
    "# 01 - Exploratory Data Analysis (EDA)\n",
    "# NEET Predictor - LFS 2020-21\n",
    "\n",
    "**Objective**: Understand the structure and patterns in the Labour Force Survey 2020-21 data, with focus on youth (15-24 years) and factors related to NEET status.\n",
    "\n",
    "**Contents**:\n",
    "1. Data Loading & Schema Inspection\n",
    "2. Data Quality Assessment\n",
    "3. Demographic Distributions\n",
    "4. Geographic Patterns\n",
    "5. Education & Employment Patterns\n",
    "6. Pre-NEET Analysis (before labeling)\n",
    "7. Correlation & Relationships\n",
    "8. Summary Statistics & Key Insights\n",
    "\n",
    "**Author**: Data Science Team  \n",
    "**Date**: October 2025"
   ]
  },
  {
   "cell_type": "code",
   "execution_count": null,
   "id": "9ab218a7",
   "metadata": {},
   "outputs": [],
   "source": [
    "# Import libraries\n",
    "import sys\n",
    "import os\n",
    "from pathlib import Path\n",
    "\n",
    "# Add src to path\n",
    "sys.path.insert(0, str(Path.cwd().parent / 'src'))\n",
    "\n",
    "# Core libraries\n",
    "import pandas as pd\n",
    "import numpy as np\n",
    "import warnings\n",
    "warnings.filterwarnings('ignore')\n",
    "\n",
    "# Visualization\n",
    "import matplotlib.pyplot as plt\n",
    "import seaborn as sns\n",
    "import plotly.express as px\n",
    "import plotly.graph_objects as go\n",
    "\n",
    "# Custom modules\n",
    "from data_preprocessing import load_raw, save_schema, detect_variable_names\n",
    "\n",
    "# Set random seed for reproducibility\n",
    "RANDOM_SEED = 42\n",
    "np.random.seed(RANDOM_SEED)\n",
    "\n",
    "# Set plotting style\n",
    "sns.set_style(\"whitegrid\")\n",
    "plt.rcParams['figure.figsize'] = (12, 6)\n",
    "plt.rcParams['font.size'] = 10\n",
    "\n",
    "print(\"✓ Libraries imported successfully!\")\n",
    "print(f\"Pandas version: {pd.__version__}\")\n",
    "print(f\"NumPy version: {np.__version__}\")"
   ]
  },
  {
   "cell_type": "markdown",
   "id": "12f0be92",
   "metadata": {},
   "source": [
    "## 1. Data Loading & Schema Inspection\n",
    "\n",
    "Load the LFS 2020-21 Stata file and inspect its structure."
   ]
  },
  {
   "cell_type": "code",
   "execution_count": null,
   "id": "6aa7bd00",
   "metadata": {},
   "outputs": [],
   "source": [
    "# Load the data\n",
    "data_path = Path.cwd().parent / 'data' / 'raw' / 'LFS2020-21.dta'\n",
    "\n",
    "print(f\"Loading data from: {data_path}\")\n",
    "print(\"=\" * 70)\n",
    "\n",
    "# Load data using custom function\n",
    "df, metadata = load_raw(str(data_path), verbose=True)\n",
    "\n",
    "# Save schema\n",
    "schema_path = Path.cwd().parent / 'data' / 'raw' / 'schema.txt'\n",
    "save_schema(metadata, str(schema_path))\n",
    "\n",
    "print(f\"\\n✓ Data loaded successfully!\")\n",
    "print(f\"  Shape: {df.shape}\")\n",
    "print(f\"  Memory: {df.memory_usage(deep=True).sum() / 1024**2:.2f} MB\")"
   ]
  },
  {
   "cell_type": "code",
   "execution_count": null,
   "id": "97068e0c",
   "metadata": {},
   "outputs": [],
   "source": [
    "# Display first few rows\n",
    "print(\"First 5 rows of the dataset:\")\n",
    "print(\"=\" * 70)\n",
    "display(df.head())\n",
    "\n",
    "# Basic info\n",
    "print(\"\\nDataset Information:\")\n",
    "print(\"=\" * 70)\n",
    "df.info()"
   ]
  },
  {
   "cell_type": "markdown",
   "id": "cf84ed75",
   "metadata": {},
   "source": [
    "## 2. Data Quality Assessment\n",
    "\n",
    "Check for missing values, duplicates, and data quality issues."
   ]
  },
  {
   "cell_type": "code",
   "execution_count": null,
   "id": "159aa3eb",
   "metadata": {},
   "outputs": [],
   "source": [
    "# Missing value analysis\n",
    "missing_pct = (df.isnull().sum() / len(df) * 100).sort_values(ascending=False)\n",
    "missing_df = pd.DataFrame({\n",
    "    'Column': missing_pct.index,\n",
    "    'Missing %': missing_pct.values\n",
    "}).head(20)\n",
    "\n",
    "print(\"Top 20 Columns with Missing Values:\")\n",
    "print(\"=\" * 70)\n",
    "print(missing_df.to_string(index=False))\n",
    "\n",
    "# Plot missing values\n",
    "fig, ax = plt.subplots(figsize=(10, 6))\n",
    "missing_df_plot = missing_df[missing_df['Missing %'] > 0]\n",
    "if len(missing_df_plot) > 0:\n",
    "    ax.barh(missing_df_plot['Column'], missing_df_plot['Missing %'])\n",
    "    ax.set_xlabel('Missing Percentage (%)')\n",
    "    ax.set_title('Top Columns with Missing Values', fontsize=14, fontweight='bold')\n",
    "    ax.invert_yaxis()\n",
    "    plt.tight_layout()\n",
    "    \n",
    "    # Save plot\n",
    "    output_dir = Path.cwd().parent / 'outputs' / 'eda_plots'\n",
    "    output_dir.mkdir(parents=True, exist_ok=True)\n",
    "    plt.savefig(output_dir / 'missing_values.png', dpi=300, bbox_inches='tight')\n",
    "    print(f\"\\n✓ Plot saved to {output_dir / 'missing_values.png'}\")\n",
    "    plt.show()\n",
    "else:\n",
    "    print(\"\\n✓ No missing values found!\")"
   ]
  }
 ],
 "metadata": {
  "language_info": {
   "name": "python"
  }
 },
 "nbformat": 4,
 "nbformat_minor": 5
}
